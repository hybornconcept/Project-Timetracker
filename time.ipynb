{
 "cells": [
  {
   "cell_type": "code",
   "execution_count": 10,
   "metadata": {},
   "outputs": [],
   "source": [
    "import pandas as pd"
   ]
  },
  {
   "cell_type": "code",
   "execution_count": 11,
   "metadata": {},
   "outputs": [
    {
     "data": {
      "text/html": [
       "<div>\n",
       "<style scoped>\n",
       "    .dataframe tbody tr th:only-of-type {\n",
       "        vertical-align: middle;\n",
       "    }\n",
       "\n",
       "    .dataframe tbody tr th {\n",
       "        vertical-align: top;\n",
       "    }\n",
       "\n",
       "    .dataframe thead th {\n",
       "        text-align: right;\n",
       "    }\n",
       "</style>\n",
       "<table border=\"1\" class=\"dataframe\">\n",
       "  <thead>\n",
       "    <tr style=\"text-align: right;\">\n",
       "      <th></th>\n",
       "      <th>facility</th>\n",
       "      <th>LGA</th>\n",
       "      <th>Longitude</th>\n",
       "      <th>Latitude</th>\n",
       "      <th>Staff_Name</th>\n",
       "      <th>Position</th>\n",
       "    </tr>\n",
       "  </thead>\n",
       "  <tbody>\n",
       "    <tr>\n",
       "      <th>0</th>\n",
       "      <td>cr Akamkpa General Hospital</td>\n",
       "      <td>cr Akampa Local Government Area</td>\n",
       "      <td>8.344309</td>\n",
       "      <td>5.326850</td>\n",
       "      <td>Deborah Egbehor</td>\n",
       "      <td>HIV Specialist</td>\n",
       "    </tr>\n",
       "    <tr>\n",
       "      <th>1</th>\n",
       "      <td>cr Akani Esuk Health Centre</td>\n",
       "      <td>cr Calabar South Local Government Area</td>\n",
       "      <td>8.313240</td>\n",
       "      <td>4.929070</td>\n",
       "      <td>Uzor Nwalorzie</td>\n",
       "      <td>HIV Specialist</td>\n",
       "    </tr>\n",
       "    <tr>\n",
       "      <th>2</th>\n",
       "      <td>cr Akpabuyo St Joseph Hospital</td>\n",
       "      <td>cr Akpabuyo Local Government Area</td>\n",
       "      <td>8.467600</td>\n",
       "      <td>4.915870</td>\n",
       "      <td>Helen Amaka Ofem</td>\n",
       "      <td>HIV Specialist</td>\n",
       "    </tr>\n",
       "    <tr>\n",
       "      <th>3</th>\n",
       "      <td>cr Akpet Central Cottage Hospital</td>\n",
       "      <td>cr Biase Local Government Area</td>\n",
       "      <td>8.095717</td>\n",
       "      <td>5.618878</td>\n",
       "      <td>Udoh Ekerette Patrick</td>\n",
       "      <td>HIV Specialist</td>\n",
       "    </tr>\n",
       "    <tr>\n",
       "      <th>4</th>\n",
       "      <td>cr Anantigha Primary Health Centre</td>\n",
       "      <td>cr Calabar South Local Government Area</td>\n",
       "      <td>8.320650</td>\n",
       "      <td>4.917540</td>\n",
       "      <td>Uzor Nwalorzie</td>\n",
       "      <td>HIV Specialist</td>\n",
       "    </tr>\n",
       "  </tbody>\n",
       "</table>\n",
       "</div>"
      ],
      "text/plain": [
       "                             facility                                     LGA  \\\n",
       "0         cr Akamkpa General Hospital         cr Akampa Local Government Area   \n",
       "1         cr Akani Esuk Health Centre  cr Calabar South Local Government Area   \n",
       "2      cr Akpabuyo St Joseph Hospital       cr Akpabuyo Local Government Area   \n",
       "3   cr Akpet Central Cottage Hospital          cr Biase Local Government Area   \n",
       "4  cr Anantigha Primary Health Centre  cr Calabar South Local Government Area   \n",
       "\n",
       "   Longitude  Latitude              Staff_Name        Position  \n",
       "0   8.344309   5.326850        Deborah Egbehor  HIV Specialist  \n",
       "1   8.313240   4.929070         Uzor Nwalorzie  HIV Specialist  \n",
       "2   8.467600   4.915870       Helen Amaka Ofem  HIV Specialist  \n",
       "3   8.095717   5.618878  Udoh Ekerette Patrick  HIV Specialist  \n",
       "4   8.320650   4.917540         Uzor Nwalorzie  HIV Specialist  "
      ]
     },
     "execution_count": 11,
     "metadata": {},
     "output_type": "execute_result"
    }
   ],
   "source": [
    "df=pd.read_csv(\"staff.csv\") # Path of the file. \n",
    "\n",
    "df.head()\n",
    "# df.to_pickle(\"staff_list.pkl\")"
   ]
  },
  {
   "cell_type": "code",
   "execution_count": 8,
   "metadata": {},
   "outputs": [
    {
     "name": "stdout",
     "output_type": "stream",
     "text": [
      "Friday\n",
      "8\n"
     ]
    }
   ],
   "source": [
    "from datetime import datetime\n",
    "import calendar\n",
    "\n",
    "dt = datetime.now()\n",
    "\n",
    "x = calendar.day_name[dt.weekday()]\n",
    "print( x)\n",
    "\n",
    "currentDT = datetime.now()\n",
    "print(currentDT.hour)"
   ]
  },
  {
   "cell_type": "code",
   "execution_count": 11,
   "metadata": {},
   "outputs": [],
   "source": [
    "df=pd.read_csv(\"entry_list.csv\") # Path of the file. \n",
    "\n",
    "df.head()\n",
    "df.to_pickle(\"use_list.pkl\")"
   ]
  }
 ],
 "metadata": {
  "kernelspec": {
   "display_name": "Python 3",
   "language": "python",
   "name": "python3"
  },
  "language_info": {
   "codemirror_mode": {
    "name": "ipython",
    "version": 3
   },
   "file_extension": ".py",
   "mimetype": "text/x-python",
   "name": "python",
   "nbconvert_exporter": "python",
   "pygments_lexer": "ipython3",
   "version": "3.11.0"
  },
  "orig_nbformat": 4
 },
 "nbformat": 4,
 "nbformat_minor": 2
}
